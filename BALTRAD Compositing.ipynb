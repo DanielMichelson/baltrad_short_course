{
 "metadata": {
  "name": "",
  "signature": "sha256:4ed9831af6ec91dc0f2925a1415b50c5851f7a4c4f8516293f4c70af151b8723"
 },
 "nbformat": 3,
 "nbformat_minor": 0,
 "worksheets": [
  {
   "cells": [
    {
     "cell_type": "heading",
     "level": 1,
     "metadata": {},
     "source": [
      "Compositing with BALTRAD"
     ]
    },
    {
     "cell_type": "markdown",
     "metadata": {},
     "source": [
      "This exercise builds on output from the parallel processing exercise. It does not address how projections and navigation is dealt with in BALTRAD. This should be addressed in a separate exercise.\n",
      "\n",
      "The Cartesian product areas used in this exercise are either pre-configured or derived on-the-fly."
     ]
    },
    {
     "cell_type": "code",
     "collapsed": false,
     "input": [
      "import glob\n",
      "import compositing"
     ],
     "language": "python",
     "metadata": {},
     "outputs": []
    }
   ],
   "metadata": {}
  }
 ]
}