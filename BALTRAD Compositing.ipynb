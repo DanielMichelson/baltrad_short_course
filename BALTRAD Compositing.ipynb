{
 "metadata": {
  "name": "",
  "signature": "sha256:7d9a36e121725b7c8dc26e056bafc96bd6e7635a4ec1a28635ccea7fb559a01b"
 },
 "nbformat": 3,
 "nbformat_minor": 0,
 "worksheets": [
  {
   "cells": [
    {
     "cell_type": "heading",
     "level": 1,
     "metadata": {},
     "source": [
      "Compositing with BALTRAD"
     ]
    },
    {
     "cell_type": "markdown",
     "metadata": {},
     "source": [
      "This exercise builds on output from the parallel processing exercise. It does not address how projections and navigation is dealt with in BALTRAD. This should be addressed in a separate exercise.\n",
      "\n",
      "The Cartesian product area used in this exercise is pre-configured and looked up from a registry."
     ]
    },
    {
     "cell_type": "heading",
     "level": 2,
     "metadata": {},
     "source": [
      "Rudimentary composite"
     ]
    },
    {
     "cell_type": "code",
     "collapsed": false,
     "input": [
      "%pylab inline\n",
      "import glob, time\n",
      "import _raveio, _rave\n",
      "import _pycomposite, compositing\n",
      "\n",
      "generator = compositing.compositing()\n",
      "generator.filenames = glob.glob(\"data/se*.h5\")"
     ],
     "language": "python",
     "metadata": {},
     "outputs": []
    },
    {
     "cell_type": "code",
     "collapsed": false,
     "input": [
      "# Run with all defaults to a pre-configured area that used the Google Maps projection.\n",
      "# First two arguments are product date and time. These are taken from the last input file if not specified.\n",
      "before = time.time()\n",
      "comp = generator.generate(None, None, area=\"swegmaps_2000\")\n",
      "after = time.time()\n",
      "\n",
      "rio = _raveio.new()\n",
      "rio.object = comp\n",
      "rio.save(\"data/comp_pcappi1000m.h5\")\n",
      "\n",
      "print \"Compositing took %3.2f seconds\" % (after-before)"
     ],
     "language": "python",
     "metadata": {},
     "outputs": []
    },
    {
     "cell_type": "heading",
     "level": 2,
     "metadata": {},
     "source": [
      "Tweak the plotter from earlier exercises"
     ]
    },
    {
     "cell_type": "code",
     "collapsed": false,
     "input": [
      "# Two color palettes, one used in GoogleMapsPlugin, and the other from RAVE\n",
      "from GmapColorMap import dbzh as dbzp\n",
      "\n",
      "# Convert a 768-list palette to a matplotlib colorlist\n",
      "def make_colorlist(pal):\n",
      "    colorlist = []\n",
      "    for i in range(0, len(pal), 3):\n",
      "        colorlist.append([pal[i]/255.0, pal[i+1]/255.0, pal[i+2]/255.0])\n",
      "    return colorlist\n",
      "\n",
      "# Convert lists to colormaps\n",
      "dbzcl = make_colorlist(dbzp)\n",
      "\n",
      "# Then create a simple plotter\n",
      "import matplotlib.pyplot as plt\n",
      "from types import StringType\n",
      "def plot(data, colorlist=dbzcl, title=\"Composite\"):\n",
      "    mini, maxi = data.shape.index(min(data.shape)), data.shape.index(max(data.shape))\n",
      "    figsize=(20,16)# if mini == 0 else (12,8)\n",
      "    fig = plt.figure(figsize=figsize)\n",
      "    plt.title(title)\n",
      "    clist=colorlist if type(colorlist)==StringType else matplotlib.colors.ListedColormap(colorlist)\n",
      "    plt.imshow(data, cmap=clist, clim=(0,255))\n",
      "    plt.colorbar(shrink=float(data.shape[mini])/data.shape[maxi])"
     ],
     "language": "python",
     "metadata": {},
     "outputs": []
    },
    {
     "cell_type": "code",
     "collapsed": false,
     "input": [
      "plot(comp.getParameter(\"DBZH\").getData(), title=\"Default composite: DBZH 1000 m Pseudo-CAPPI, nearest radar\")"
     ],
     "language": "python",
     "metadata": {},
     "outputs": []
    },
    {
     "cell_type": "heading",
     "level": 2,
     "metadata": {},
     "source": [
      "Maximum reflectivity, lowest pixel, add QC chain"
     ]
    },
    {
     "cell_type": "code",
     "collapsed": false,
     "input": [
      "generator.product = _rave.Rave_ProductType_MAX\n",
      "generator.selection_method = _pycomposite.SelectionMethod_HEIGHT\n",
      "generator.detectors = [\"ropo\", \"beamb\", \"radvol-att\", \"radvol-broad\", \"rave-overshooting\", \"qi-total\"]\n",
      "before = time.time()\n",
      "comp = generator.generate(None, None, area=\"swegmaps_2000\")\n",
      "after = time.time()\n",
      "rio.object = comp\n",
      "rio.save(\"data/comp_max.h5\")\n",
      "print \"Compositing took %3.2f seconds\" % (after-before)"
     ],
     "language": "python",
     "metadata": {},
     "outputs": []
    },
    {
     "cell_type": "code",
     "collapsed": false,
     "input": [
      "plot(comp.getParameter(\"DBZH\").getData(), title=\"Maximum reflectivity, lowest pixel\")"
     ],
     "language": "python",
     "metadata": {},
     "outputs": []
    },
    {
     "cell_type": "heading",
     "level": 2,
     "metadata": {},
     "source": [
      "Plot correspondong total quality index"
     ]
    },
    {
     "cell_type": "code",
     "collapsed": false,
     "input": [
      "dbzh = comp.getParameter(\"DBZH\")\n",
      "qitot = dbzh.getQualityFieldByHowTask(\"pl.imgw.quality.qi_total\")\n",
      "plot(qitot.getData(), \"binary\", \"Total quality index\")"
     ],
     "language": "python",
     "metadata": {},
     "outputs": []
    },
    {
     "cell_type": "heading",
     "level": 2,
     "metadata": {},
     "source": [
      "Now use \"total quality\" as the compositing criterion"
     ]
    },
    {
     "cell_type": "code",
     "collapsed": false,
     "input": [
      "generator.qitotal_field = \"pl.imgw.quality.qi_total\"\n",
      "before = time.time()\n",
      "comp = generator.generate(None, None, area=\"swegmaps_2000\")\n",
      "after = time.time()\n",
      "rio.object = comp\n",
      "rio.save(\"data/comp_qitotal.h5\")\n",
      "print \"Compositing took %3.2f seconds\" % (after-before)"
     ],
     "language": "python",
     "metadata": {},
     "outputs": []
    },
    {
     "cell_type": "code",
     "collapsed": false,
     "input": [
      "plot(comp.getParameter(\"DBZH\").getData(), title=\"Maximum reflectivity, quality-based\")"
     ],
     "language": "python",
     "metadata": {},
     "outputs": []
    },
    {
     "cell_type": "code",
     "collapsed": false,
     "input": [
      "plot(comp.getParameter(\"DBZH\").getQualityFieldByHowTask(\"pl.imgw.quality.qi_total\").getData(), \"binary\", \"Total quality index\")"
     ],
     "language": "python",
     "metadata": {},
     "outputs": []
    },
    {
     "cell_type": "code",
     "collapsed": false,
     "input": [],
     "language": "python",
     "metadata": {},
     "outputs": []
    }
   ],
   "metadata": {}
  }
 ]
}