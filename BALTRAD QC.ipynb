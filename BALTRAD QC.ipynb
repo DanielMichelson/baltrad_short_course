{
 "metadata": {
  "name": "",
  "signature": "sha256:58244ab5cbaa23cad9da98a5b1667781705118e8b9e616e688554d37cb221a34"
 },
 "nbformat": 3,
 "nbformat_minor": 0,
 "worksheets": [
  {
   "cells": [
    {
     "cell_type": "heading",
     "level": 1,
     "metadata": {},
     "source": [
      "BALTRAD Quality Control"
     ]
    },
    {
     "cell_type": "heading",
     "level": 2,
     "metadata": {},
     "source": [
      "\n",
      "Import the file I/O module along with the main RAVE module containing useful constants"
     ]
    },
    {
     "cell_type": "code",
     "collapsed": false,
     "input": [
      "%pylab inline\n",
      "import _raveio, _rave"
     ],
     "language": "python",
     "metadata": {},
     "outputs": []
    },
    {
     "cell_type": "heading",
     "level": 2,
     "metadata": {},
     "source": [
      "Read an input ODIM_H5 file"
     ]
    },
    {
     "cell_type": "code",
     "collapsed": false,
     "input": [
      "rio = _raveio.open(\"data/201405190715_SUR.h5\")"
     ],
     "language": "python",
     "metadata": {},
     "outputs": []
    },
    {
     "cell_type": "heading",
     "level": 2,
     "metadata": {},
     "source": [
      "Create a simple plotter for B-scans, elaborating the example from the I/O exercise"
     ]
    },
    {
     "cell_type": "code",
     "collapsed": false,
     "input": [
      "# Two color palettes, one used in GoogleMapsPlugin, and the other from RAVE\n",
      "from GmapColorMap import dbzh as dbzp\n",
      "from rave_win_colors import continuous_MS as vradp\n",
      "\n",
      "# Convert a 768-list palette to a matplotlib colorlist\n",
      "def make_colorlist(pal):\n",
      "    colorlist = []\n",
      "    for i in range(0, len(pal), 3):\n",
      "        colorlist.append([pal[i]/255.0, pal[i+1]/255.0, pal[i+2]/255.0])\n",
      "    return colorlist\n",
      "\n",
      "# Convert lists to colormaps\n",
      "dbzcl = make_colorlist(dbzp)\n",
      "vradcl = make_colorlist(vradp)\n",
      "\n",
      "# Then create a simple plotter\n",
      "import matplotlib.pyplot as plt\n",
      "from types import StringType\n",
      "def plot(data, colorlist=dbzcl, title=\"B-scan\"):\n",
      "    mini, maxi = data.shape.index(min(data.shape)), data.shape.index(max(data.shape))\n",
      "    figsize=(16,12) if mini == 0 else (12,8)\n",
      "    fig = plt.figure(figsize=figsize)\n",
      "    plt.title(title)\n",
      "    clist=colorlist if type(colorlist)==StringType else matplotlib.colors.ListedColormap(colorlist)\n",
      "    plt.imshow(data, cmap=clist, clim=(0,255))\n",
      "    plt.colorbar(shrink=float(data.shape[mini])/data.shape[maxi])"
     ],
     "language": "python",
     "metadata": {},
     "outputs": []
    },
    {
     "cell_type": "heading",
     "level": 2,
     "metadata": {},
     "source": [
      "Access the polar volume and plot VRAD data from the lowest scan"
     ]
    },
    {
     "cell_type": "code",
     "collapsed": false,
     "input": [
      "pvol = rio.object\n",
      "plot(pvol.getScan(0).getParameter(\"VRAD\").getData(), vradcl, \"Original VRAD\")"
     ],
     "language": "python",
     "metadata": {},
     "outputs": []
    },
    {
     "cell_type": "heading",
     "level": 2,
     "metadata": {},
     "source": [
      "Dealias the volume"
     ]
    },
    {
     "cell_type": "code",
     "collapsed": false,
     "input": [
      "import _dealias\n",
      "ret = _dealias.dealias(pvol)"
     ],
     "language": "python",
     "metadata": {},
     "outputs": []
    },
    {
     "cell_type": "heading",
     "level": 3,
     "metadata": {},
     "source": [
      "Check whether the first scan's been dealiased"
     ]
    },
    {
     "cell_type": "code",
     "collapsed": false,
     "input": [
      "print \"This first scan is dealiased: %s\" % `_dealias.dealiased(pvol.getScan(0))`"
     ],
     "language": "python",
     "metadata": {},
     "outputs": []
    },
    {
     "cell_type": "heading",
     "level": 3,
     "metadata": {},
     "source": [
      "Replot for comparison"
     ]
    },
    {
     "cell_type": "code",
     "collapsed": false,
     "input": [
      "plot(pvol.getScan(0).getParameter(\"VRAD\").getData(), vradcl, \"Dealiased VRAD\")"
     ],
     "language": "python",
     "metadata": {},
     "outputs": []
    },
    {
     "cell_type": "heading",
     "level": 2,
     "metadata": {},
     "source": [
      "Shift gears - back to reflectivity"
     ]
    },
    {
     "cell_type": "code",
     "collapsed": false,
     "input": [
      "rio = _raveio.open(\"data/plrze_pvol_20120205T0430Z.h5\")\n",
      "pvol = rio.object\n",
      "plot(pvol.getScan(0).getParameter(\"DBZH\").getData(), title=\"Original DBZH\")"
     ],
     "language": "python",
     "metadata": {},
     "outputs": []
    },
    {
     "cell_type": "heading",
     "level": 2,
     "metadata": {},
     "source": [
      "Use the bRopo package's quality plugin to identify and remove non-precipitation echoes"
     ]
    },
    {
     "cell_type": "code",
     "collapsed": false,
     "input": [
      "import odc_polarQC\n",
      "odc_polarQC.algorithm_ids = [\"ropo\"]\n",
      "\n",
      "pvol = odc_polarQC.QC(pvol)"
     ],
     "language": "python",
     "metadata": {},
     "outputs": []
    },
    {
     "cell_type": "heading",
     "level": 3,
     "metadata": {},
     "source": [
      "Plot the resulting DBZH"
     ]
    },
    {
     "cell_type": "code",
     "collapsed": false,
     "input": [
      "plot(pvol.getScan(0).getParameter(\"DBZH\").getData(), title=\"DBZH after bRopo\")"
     ],
     "language": "python",
     "metadata": {},
     "outputs": []
    },
    {
     "cell_type": "heading",
     "level": 2,
     "metadata": {},
     "source": [
      "Topographical beam-blockage QC using the beamb package's quality plugin"
     ]
    },
    {
     "cell_type": "code",
     "collapsed": false,
     "input": [
      "import time\n",
      "odc_polarQC.algorithm_ids = [\"beamb\"]\n",
      "before = time.time()\n",
      "pvol = odc_polarQC.QC(pvol)\n",
      "after = time.time()\n",
      "print \"beamb runtime = %2.2f seconds\" % (after-before)"
     ],
     "language": "python",
     "metadata": {},
     "outputs": []
    },
    {
     "cell_type": "heading",
     "level": 2,
     "metadata": {},
     "source": [
      "Probability of overshooting"
     ]
    },
    {
     "cell_type": "code",
     "collapsed": false,
     "input": [
      "odc_polarQC.algorithm_ids = [\"rave-overshooting\"]\n",
      "pvol = odc_polarQC.QC(pvol)"
     ],
     "language": "python",
     "metadata": {},
     "outputs": []
    },
    {
     "cell_type": "heading",
     "level": 2,
     "metadata": {},
     "source": [
      "Accessing and manging data quality fields"
     ]
    },
    {
     "cell_type": "code",
     "collapsed": false,
     "input": [
      "scan = pvol.getScan(0)\n",
      "print \"Scan contains %i quality fields\" % scan.getNumberOfQualityFields()"
     ],
     "language": "python",
     "metadata": {},
     "outputs": []
    },
    {
     "cell_type": "code",
     "collapsed": false,
     "input": [
      "for i in range(scan.getNumberOfQualityFields()):\n",
      "    qf = scan.getQualityField(i)\n",
      "    print \"Quality field %i has identifier %s\" % (i, qf.getAttribute(\"how/task\"))"
     ],
     "language": "python",
     "metadata": {},
     "outputs": []
    },
    {
     "cell_type": "heading",
     "level": 2,
     "metadata": {},
     "source": [
      "Plot quality fields"
     ]
    },
    {
     "cell_type": "heading",
     "level": 3,
     "metadata": {},
     "source": [
      "Beam blockage"
     ]
    },
    {
     "cell_type": "code",
     "collapsed": false,
     "input": [
      "bb = scan.getQualityFieldByHowTask(\"se.smhi.detector.beamblockage\")\n",
      "plot(bb.getData(), \"binary\", \"Quality indicator for beam blockage\")"
     ],
     "language": "python",
     "metadata": {},
     "outputs": []
    },
    {
     "cell_type": "heading",
     "level": 3,
     "metadata": {},
     "source": [
      "Probability of non-precipitation"
     ]
    },
    {
     "cell_type": "code",
     "collapsed": false,
     "input": [
      "bb = scan.getQualityFieldByHowTask(\"fi.fmi.ropo.detector.classification\")\n",
      "plot(bb.getData(), \"binary\", \"Quality indicator for ropo\")"
     ],
     "language": "python",
     "metadata": {},
     "outputs": []
    },
    {
     "cell_type": "heading",
     "level": 3,
     "metadata": {},
     "source": [
      "Probability of overshooting"
     ]
    },
    {
     "cell_type": "code",
     "collapsed": false,
     "input": [
      "bb = scan.getQualityFieldByHowTask(\"se.smhi.detector.poo\")\n",
      "plot(bb.getData(), \"binary\", \"Quality indicator for PoO\")"
     ],
     "language": "python",
     "metadata": {},
     "outputs": []
    },
    {
     "cell_type": "heading",
     "level": 2,
     "metadata": {},
     "source": [
      "Chaining algorithms - new data"
     ]
    },
    {
     "cell_type": "code",
     "collapsed": false,
     "input": [
      "rio = _raveio.open(\"data/sekir.h5\")\n",
      "pvol = rio.object\n",
      "\n",
      "odc_polarQC.algorithm_ids = [\"ropo\", \"beamb\", \"radvol-att\", \"radvol-broad\", \"rave-overshooting\"]\n",
      "pvol = odc_polarQC.QC(pvol)"
     ],
     "language": "python",
     "metadata": {},
     "outputs": []
    },
    {
     "cell_type": "code",
     "collapsed": false,
     "input": [
      "scan = pvol.getScan(0)\n",
      "att = scan.getQualityField(2)\n",
      "plot(att.getData(), \"binary\", \"Attenuation\")"
     ],
     "language": "python",
     "metadata": {},
     "outputs": []
    },
    {
     "cell_type": "heading",
     "level": 2,
     "metadata": {},
     "source": [
      "\"Total Quality\""
     ]
    },
    {
     "cell_type": "code",
     "collapsed": false,
     "input": [
      "odc_polarQC.algorithm_ids = [\"qi-total\"]\n",
      "pvol = odc_polarQC.QC(pvol)"
     ],
     "language": "python",
     "metadata": {},
     "outputs": []
    },
    {
     "cell_type": "code",
     "collapsed": false,
     "input": [
      "qitot = scan.getQualityField(5)\n",
      "plot(qitot.getData(), \"binary\", \"Total quality index\")"
     ],
     "language": "python",
     "metadata": {},
     "outputs": []
    },
    {
     "cell_type": "code",
     "collapsed": false,
     "input": [],
     "language": "python",
     "metadata": {},
     "outputs": []
    }
   ],
   "metadata": {}
  }
 ]
}