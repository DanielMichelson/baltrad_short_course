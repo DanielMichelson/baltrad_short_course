{
 "cells": [
  {
   "cell_type": "markdown",
   "metadata": {},
   "source": [
    "# In this notebook, we will use the depolarization ratio to quality control a volume of data from the new radar at Radisson, Saskatchewan\n",
    "## We will also visualize the data using some openly-available colour tables"
   ]
  },
  {
   "cell_type": "code",
   "execution_count": 1,
   "metadata": {},
   "outputs": [
    {
     "name": "stdout",
     "output_type": "stream",
     "text": [
      "Populating the interactive namespace from numpy and matplotlib\n"
     ]
    }
   ],
   "source": [
    "%pylab inline\n",
    "import _raveio\n",
    "import ec_drqc"
   ]
  },
  {
   "cell_type": "markdown",
   "metadata": {},
   "source": [
    "### Read the volume"
   ]
  },
  {
   "cell_type": "code",
   "execution_count": 3,
   "metadata": {},
   "outputs": [],
   "source": [
    "rio = _raveio.open('data/2019051509_00_ODIMH5_PVOL6S_VOL_casra.16.h5')\n",
    "pvol = rio.object"
   ]
  },
  {
   "cell_type": "markdown",
   "metadata": {},
   "source": [
    "### Block of look-ups for display"
   ]
  },
  {
   "cell_type": "code",
   "execution_count": 5,
   "metadata": {},
   "outputs": [],
   "source": [
    "import GmapColorMap, rave_win_colors\n",
    "\n",
    "PALETTE = {\"TH\":GmapColorMap.PALETTES[\"DBZH\"],\n",
    "           \"DBZH\":GmapColorMap.PALETTES[\"DBZH\"],\n",
    "           \"VRADH\":rave_win_colors.continuous_MS,\n",
    "           \"HGHT\":rave_win_colors.continuous_dBZ}\n",
    "\n",
    "UNDETECT = {\"TH\":GmapColorMap.PUREWHITE,\n",
    "            \"DBZH\":GmapColorMap.PUREWHITE,\n",
    "            \"DR\":GmapColorMap.PUREWHITE,\n",
    "            \"VRADH\":GmapColorMap.GREY5,\n",
    "            \"RHOHV\":GmapColorMap.PUREWHITE,\n",
    "            \"ZDR\":GmapColorMap.PUREWHITE}\n",
    "\n",
    "NODATA = {\"TH\":GmapColorMap.WEBSAFEGREY,\n",
    "          \"DBZH\":GmapColorMap.WEBSAFEGREY,\n",
    "          \"DR\":GmapColorMap.WEBSAFEGREY,\n",
    "          \"VRADH\":GmapColorMap.GREY8,\n",
    "          \"RHOHV\":GmapColorMap.WEBSAFEGREY,\n",
    "          \"ZDR\":GmapColorMap.WEBSAFEGREY}\n",
    "\n",
    "GRATICULE = {\"TH\":'darkgrey',\n",
    "             \"DBZH\":'darkgrey',\n",
    "             \"VRADH\":'white',\n",
    "             \"RHOHV\":'darkgrey',\n",
    "             \"DR\":'darkgrey',\n",
    "             \"ZDR\":'darkgrey'}\n",
    "\n",
    "LEGEND = {\"TH\":'Radar reflectivity factor (dBZ)',\n",
    "          \"DBZH\":'Radar reflectivity factor (dBZ)',\n",
    "          \"DR\":'Depolarization ratio (dB)',\n",
    "          \"VRADH\":'Radial wind velocity away from radar (m/s)',\n",
    "          \"RHOHV\":'Co-polar correlation coefficient',\n",
    "          \"ZDR\":\"Differential reflectivity (dB)\"}"
   ]
  },
  {
   "cell_type": "markdown",
   "metadata": {},
   "source": [
    "### Colormap loader and loads"
   ]
  },
  {
   "cell_type": "code",
   "execution_count": 6,
   "metadata": {},
   "outputs": [],
   "source": [
    "def loadPal(fstr, reverse=True):\n",
    "    fd = open(fstr)\n",
    "    LINES = fd.readlines()\n",
    "    fd.close()\n",
    "    pal = []\n",
    "    for line in LINES:\n",
    "        s = line.split()\n",
    "        if reverse: s.reverse()\n",
    "        for val in s:\n",
    "            pal.append(int(float(val)*255))\n",
    "    if reverse: pal.reverse()\n",
    "#    pal[0], pal[1], pal[2], pal[-3], pal[-2], pal[-1] = 0,0,0, 255,255,255\n",
    "    return pal\n",
    "\n",
    "# Colour maps by Fabio Crameri, a couple of them tweaked\n",
    "PALETTE[\"DBZH\"] = loadPal(\"data/hawaii.txt\")\n",
    "PALETTE[\"DR\"] = loadPal(\"data/moleron.txt\", False)\n",
    "PALETTE[\"ZDR\"] = loadPal(\"data/oleron.txt\", False)\n",
    "PALETTE[\"RHOHV\"] = loadPal(\"data/mroma.txt\")\n",
    "PALETTE[\"VRADH\"] = loadPal(\"data/vik.txt\", False)"
   ]
  },
  {
   "cell_type": "code",
   "execution_count": null,
   "metadata": {},
   "outputs": [],
   "source": []
  }
 ],
 "metadata": {
  "kernelspec": {
   "display_name": "Python 3",
   "language": "python",
   "name": "python3"
  },
  "language_info": {
   "codemirror_mode": {
    "name": "ipython",
    "version": 3
   },
   "file_extension": ".py",
   "mimetype": "text/x-python",
   "name": "python",
   "nbconvert_exporter": "python",
   "pygments_lexer": "ipython3",
   "version": "3.7.3"
  }
 },
 "nbformat": 4,
 "nbformat_minor": 4
}
